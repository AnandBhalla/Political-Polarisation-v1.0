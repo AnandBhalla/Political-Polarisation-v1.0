{
 "cells": [
  {
   "cell_type": "code",
   "execution_count": 13,
   "id": "ed724535",
   "metadata": {},
   "outputs": [],
   "source": [
    "import pandas as pd\n",
    "import numpy as np"
   ]
  },
  {
   "cell_type": "code",
   "execution_count": 3,
   "id": "054dd2ac",
   "metadata": {},
   "outputs": [],
   "source": [
    "channels = pd.DataFrame.from_records([\n",
    "    {'title': 'Fox News', 'slug': 'fox-news', 'youtube_id': 'UCXIJgqnII2ZOINSWNOGFThA', 'playlist_id': 'UUXIJgqnII2ZOINSWNOGFThA', 'url': 'https://www.youtube.com/user/FoxNewsChannel', 'color': '#5975a4'},\n",
    "    {'title': 'CNN', 'slug': 'cnn', 'youtube_id': 'UCupvZG-5ko_eiXAupbDfxWw', 'playlist_id': 'UUupvZG-5ko_eiXAupbDfxWw', 'url': 'https://www.youtube.com/user/CNN', 'color': '#b55d60'},\n",
    "    {'title': 'MSNBC', 'slug': 'msnbc', 'youtube_id': 'UCaXkIU1QidjPwiAYu6GcHjg', 'playlist_id': 'UUaXkIU1QidjPwiAYu6GcHjg', 'url': 'https://www.youtube.com/user/msnbcleanforward', 'color': '#5f9e6e'},\n",
    "    {'title': 'CBS News', 'slug': 'cbs-news', 'youtube_id': 'UC8p1vwvWtl6T73JiExfWs1g', 'playlist_id': 'UU8p1vwvWtl6T73JiExfWs1g', 'url': 'https://www.youtube.com/user/CBSNewsOnline', 'color': '#666666'},\n",
    "])\n",
    "\n",
    "channels.to_csv('channels.csv', index=False, encoding='utf-8')"
   ]
  },
  {
   "cell_type": "code",
   "execution_count": 4,
   "id": "5c1dfe1d",
   "metadata": {},
   "outputs": [],
   "source": [
    "dataset=pd.read_csv(\"channels.csv\")\n"
   ]
  },
  {
   "cell_type": "code",
   "execution_count": 21,
   "id": "8caa6f2b",
   "metadata": {},
   "outputs": [
    {
     "data": {
      "text/html": [
       "<div>\n",
       "<style scoped>\n",
       "    .dataframe tbody tr th:only-of-type {\n",
       "        vertical-align: middle;\n",
       "    }\n",
       "\n",
       "    .dataframe tbody tr th {\n",
       "        vertical-align: top;\n",
       "    }\n",
       "\n",
       "    .dataframe thead th {\n",
       "        text-align: right;\n",
       "    }\n",
       "</style>\n",
       "<table border=\"1\" class=\"dataframe\">\n",
       "  <thead>\n",
       "    <tr style=\"text-align: right;\">\n",
       "      <th></th>\n",
       "      <th>title</th>\n",
       "      <th>slug</th>\n",
       "      <th>youtube_id</th>\n",
       "      <th>playlist_id</th>\n",
       "      <th>url</th>\n",
       "      <th>color</th>\n",
       "    </tr>\n",
       "  </thead>\n",
       "  <tbody>\n",
       "    <tr>\n",
       "      <th>0</th>\n",
       "      <td>Fox News</td>\n",
       "      <td>fox-news</td>\n",
       "      <td>UCXIJgqnII2ZOINSWNOGFThA</td>\n",
       "      <td>UUXIJgqnII2ZOINSWNOGFThA</td>\n",
       "      <td>https://www.youtube.com/user/FoxNewsChannel</td>\n",
       "      <td>#5975a4</td>\n",
       "    </tr>\n",
       "    <tr>\n",
       "      <th>1</th>\n",
       "      <td>CNN</td>\n",
       "      <td>cnn</td>\n",
       "      <td>UCupvZG-5ko_eiXAupbDfxWw</td>\n",
       "      <td>UUupvZG-5ko_eiXAupbDfxWw</td>\n",
       "      <td>https://www.youtube.com/user/CNN</td>\n",
       "      <td>#b55d60</td>\n",
       "    </tr>\n",
       "    <tr>\n",
       "      <th>2</th>\n",
       "      <td>MSNBC</td>\n",
       "      <td>msnbc</td>\n",
       "      <td>UCaXkIU1QidjPwiAYu6GcHjg</td>\n",
       "      <td>UUaXkIU1QidjPwiAYu6GcHjg</td>\n",
       "      <td>https://www.youtube.com/user/msnbcleanforward</td>\n",
       "      <td>#5f9e6e</td>\n",
       "    </tr>\n",
       "    <tr>\n",
       "      <th>3</th>\n",
       "      <td>CBS News</td>\n",
       "      <td>cbs-news</td>\n",
       "      <td>UC8p1vwvWtl6T73JiExfWs1g</td>\n",
       "      <td>UU8p1vwvWtl6T73JiExfWs1g</td>\n",
       "      <td>https://www.youtube.com/user/CBSNewsOnline</td>\n",
       "      <td>#666666</td>\n",
       "    </tr>\n",
       "  </tbody>\n",
       "</table>\n",
       "</div>"
      ],
      "text/plain": [
       "      title      slug                youtube_id               playlist_id  \\\n",
       "0  Fox News  fox-news  UCXIJgqnII2ZOINSWNOGFThA  UUXIJgqnII2ZOINSWNOGFThA   \n",
       "1       CNN       cnn  UCupvZG-5ko_eiXAupbDfxWw  UUupvZG-5ko_eiXAupbDfxWw   \n",
       "2     MSNBC     msnbc  UCaXkIU1QidjPwiAYu6GcHjg  UUaXkIU1QidjPwiAYu6GcHjg   \n",
       "3  CBS News  cbs-news  UC8p1vwvWtl6T73JiExfWs1g  UU8p1vwvWtl6T73JiExfWs1g   \n",
       "\n",
       "                                             url    color  \n",
       "0    https://www.youtube.com/user/FoxNewsChannel  #5975a4  \n",
       "1               https://www.youtube.com/user/CNN  #b55d60  \n",
       "2  https://www.youtube.com/user/msnbcleanforward  #5f9e6e  \n",
       "3     https://www.youtube.com/user/CBSNewsOnline  #666666  "
      ]
     },
     "execution_count": 21,
     "metadata": {},
     "output_type": "execute_result"
    }
   ],
   "source": [
    "dataset.head()"
   ]
  },
  {
   "cell_type": "code",
   "execution_count": 3,
   "id": "d25b8a26",
   "metadata": {},
   "outputs": [],
   "source": [
    "topics = pd.DataFrame.from_records([\n",
    "    {'title': 'Obama', 'slug': 'obama', 'variant1': 'Obama', 'variant2': 'Obamas'},\n",
    "    {'title': 'Clinton', 'slug': 'clinton','variant1': 'Clinton', 'variant2': 'Clintons'},\n",
    "    {'title': 'Trump', 'slug': 'trump','variant1': 'Trump', 'variant2': 'Trumps'},\n",
    "    {'title': 'Democrats', 'slug': 'democrats', 'variant1': 'Democrat', 'variant2': 'Democrats'},\n",
    "    {'title': 'Republicans', 'slug': 'republicans', 'variant1': 'Republican', 'variant2': 'Republicans'},\n",
    "    {'title': 'Liberals', 'slug': 'liberals', 'variant1': 'Liberal', 'variant2': 'Liberals'},\n",
    "    {'title': 'Conservatives', 'slug': 'conservatives', 'variant1': 'Conservative', 'variant2': 'Conservatives'},\n",
    "])\n",
    "\n",
    "topics.to_csv('topics.csv', index=False, encoding='utf-8')"
   ]
  },
  {
   "cell_type": "code",
   "execution_count": 4,
   "id": "12944d04",
   "metadata": {},
   "outputs": [],
   "source": [
    "dataset=pd.read_csv(\"topics.csv\")"
   ]
  },
  {
   "cell_type": "code",
   "execution_count": 5,
   "id": "5625c691",
   "metadata": {},
   "outputs": [
    {
     "data": {
      "text/html": [
       "<div>\n",
       "<style scoped>\n",
       "    .dataframe tbody tr th:only-of-type {\n",
       "        vertical-align: middle;\n",
       "    }\n",
       "\n",
       "    .dataframe tbody tr th {\n",
       "        vertical-align: top;\n",
       "    }\n",
       "\n",
       "    .dataframe thead th {\n",
       "        text-align: right;\n",
       "    }\n",
       "</style>\n",
       "<table border=\"1\" class=\"dataframe\">\n",
       "  <thead>\n",
       "    <tr style=\"text-align: right;\">\n",
       "      <th></th>\n",
       "      <th>title</th>\n",
       "      <th>slug</th>\n",
       "      <th>variant1</th>\n",
       "      <th>variant2</th>\n",
       "    </tr>\n",
       "  </thead>\n",
       "  <tbody>\n",
       "    <tr>\n",
       "      <th>0</th>\n",
       "      <td>Obama</td>\n",
       "      <td>obama</td>\n",
       "      <td>Obama</td>\n",
       "      <td>Obamas</td>\n",
       "    </tr>\n",
       "    <tr>\n",
       "      <th>1</th>\n",
       "      <td>Clinton</td>\n",
       "      <td>clinton</td>\n",
       "      <td>Clinton</td>\n",
       "      <td>Clintons</td>\n",
       "    </tr>\n",
       "    <tr>\n",
       "      <th>2</th>\n",
       "      <td>Trump</td>\n",
       "      <td>trump</td>\n",
       "      <td>Trump</td>\n",
       "      <td>Trumps</td>\n",
       "    </tr>\n",
       "    <tr>\n",
       "      <th>3</th>\n",
       "      <td>Democrats</td>\n",
       "      <td>democrats</td>\n",
       "      <td>Democrat</td>\n",
       "      <td>Democrats</td>\n",
       "    </tr>\n",
       "    <tr>\n",
       "      <th>4</th>\n",
       "      <td>Republicans</td>\n",
       "      <td>republicans</td>\n",
       "      <td>Republican</td>\n",
       "      <td>Republicans</td>\n",
       "    </tr>\n",
       "  </tbody>\n",
       "</table>\n",
       "</div>"
      ],
      "text/plain": [
       "         title         slug    variant1     variant2\n",
       "0        Obama        obama       Obama       Obamas\n",
       "1      Clinton      clinton     Clinton     Clintons\n",
       "2        Trump        trump       Trump       Trumps\n",
       "3    Democrats    democrats    Democrat    Democrats\n",
       "4  Republicans  republicans  Republican  Republicans"
      ]
     },
     "execution_count": 5,
     "metadata": {},
     "output_type": "execute_result"
    }
   ],
   "source": [
    "dataset.head()"
   ]
  },
  {
   "cell_type": "code",
   "execution_count": 14,
   "id": "9fc5900f",
   "metadata": {},
   "outputs": [
    {
     "name": "stdout",
     "output_type": "stream",
     "text": [
      "Requirement already satisfied: import_ipynb in c:\\users\\bhall\\anaconda3\\lib\\site-packages (0.1.4)\n",
      "Requirement already satisfied: IPython in c:\\users\\bhall\\anaconda3\\lib\\site-packages (from import_ipynb) (8.15.0)\n",
      "Requirement already satisfied: nbformat in c:\\users\\bhall\\anaconda3\\lib\\site-packages (from import_ipynb) (5.9.2)\n",
      "Requirement already satisfied: backcall in c:\\users\\bhall\\anaconda3\\lib\\site-packages (from IPython->import_ipynb) (0.2.0)\n",
      "Requirement already satisfied: decorator in c:\\users\\bhall\\anaconda3\\lib\\site-packages (from IPython->import_ipynb) (5.1.1)\n",
      "Requirement already satisfied: jedi>=0.16 in c:\\users\\bhall\\anaconda3\\lib\\site-packages (from IPython->import_ipynb) (0.18.1)\n",
      "Requirement already satisfied: matplotlib-inline in c:\\users\\bhall\\anaconda3\\lib\\site-packages (from IPython->import_ipynb) (0.1.6)\n",
      "Requirement already satisfied: pickleshare in c:\\users\\bhall\\anaconda3\\lib\\site-packages (from IPython->import_ipynb) (0.7.5)\n",
      "Requirement already satisfied: prompt-toolkit!=3.0.37,<3.1.0,>=3.0.30 in c:\\users\\bhall\\anaconda3\\lib\\site-packages (from IPython->import_ipynb) (3.0.36)\n",
      "Requirement already satisfied: pygments>=2.4.0 in c:\\users\\bhall\\anaconda3\\lib\\site-packages (from IPython->import_ipynb) (2.15.1)\n",
      "Requirement already satisfied: stack-data in c:\\users\\bhall\\anaconda3\\lib\\site-packages (from IPython->import_ipynb) (0.2.0)\n",
      "Requirement already satisfied: traitlets>=5 in c:\\users\\bhall\\anaconda3\\lib\\site-packages (from IPython->import_ipynb) (5.7.1)\n",
      "Requirement already satisfied: colorama in c:\\users\\bhall\\anaconda3\\lib\\site-packages (from IPython->import_ipynb) (0.4.6)\n",
      "Requirement already satisfied: fastjsonschema in c:\\users\\bhall\\anaconda3\\lib\\site-packages (from nbformat->import_ipynb) (2.16.2)\n",
      "Requirement already satisfied: jsonschema>=2.6 in c:\\users\\bhall\\anaconda3\\lib\\site-packages (from nbformat->import_ipynb) (4.17.3)\n",
      "Requirement already satisfied: jupyter-core in c:\\users\\bhall\\anaconda3\\lib\\site-packages (from nbformat->import_ipynb) (5.3.0)\n",
      "Requirement already satisfied: parso<0.9.0,>=0.8.0 in c:\\users\\bhall\\anaconda3\\lib\\site-packages (from jedi>=0.16->IPython->import_ipynb) (0.8.3)\n",
      "Requirement already satisfied: attrs>=17.4.0 in c:\\users\\bhall\\anaconda3\\lib\\site-packages (from jsonschema>=2.6->nbformat->import_ipynb) (22.1.0)\n",
      "Requirement already satisfied: pyrsistent!=0.17.0,!=0.17.1,!=0.17.2,>=0.14.0 in c:\\users\\bhall\\anaconda3\\lib\\site-packages (from jsonschema>=2.6->nbformat->import_ipynb) (0.18.0)\n",
      "Requirement already satisfied: wcwidth in c:\\users\\bhall\\anaconda3\\lib\\site-packages (from prompt-toolkit!=3.0.37,<3.1.0,>=3.0.30->IPython->import_ipynb) (0.2.5)\n",
      "Requirement already satisfied: platformdirs>=2.5 in c:\\users\\bhall\\anaconda3\\lib\\site-packages (from jupyter-core->nbformat->import_ipynb) (3.10.0)\n",
      "Requirement already satisfied: pywin32>=300 in c:\\users\\bhall\\anaconda3\\lib\\site-packages (from jupyter-core->nbformat->import_ipynb) (305.1)\n",
      "Requirement already satisfied: executing in c:\\users\\bhall\\anaconda3\\lib\\site-packages (from stack-data->IPython->import_ipynb) (0.8.3)\n",
      "Requirement already satisfied: asttokens in c:\\users\\bhall\\anaconda3\\lib\\site-packages (from stack-data->IPython->import_ipynb) (2.0.5)\n",
      "Requirement already satisfied: pure-eval in c:\\users\\bhall\\anaconda3\\lib\\site-packages (from stack-data->IPython->import_ipynb) (0.2.2)\n",
      "Requirement already satisfied: six in c:\\users\\bhall\\anaconda3\\lib\\site-packages (from asttokens->stack-data->IPython->import_ipynb) (1.16.0)\n"
     ]
    }
   ],
   "source": [
    "!pip install import_ipynb"
   ]
  },
  {
   "cell_type": "code",
   "execution_count": 11,
   "id": "aa2fe3d0",
   "metadata": {},
   "outputs": [
    {
     "name": "stdout",
     "output_type": "stream",
     "text": [
      "importing Jupyter notebook from youtube_api.ipynb\n"
     ]
    }
   ],
   "source": [
    "import import_ipynb\n",
    "import youtube_api\n"
   ]
  },
  {
   "cell_type": "code",
   "execution_count": 6,
   "id": "36ad3d99",
   "metadata": {},
   "outputs": [
    {
     "name": "stdout",
     "output_type": "stream",
     "text": [
      "Generated file: videos-cbs-news.csv\n"
     ]
    }
   ],
   "source": [
    "youtube_api.download_channels_videos(channels)"
   ]
  },
  {
   "cell_type": "code",
   "execution_count": 5,
   "id": "2706ff94",
   "metadata": {},
   "outputs": [
    {
     "name": "stdout",
     "output_type": "stream",
     "text": [
      "Channel videos merged into videos-MERGED.csv\n"
     ]
    }
   ],
   "source": [
    "youtube_api.merge_channel_videos(channels)"
   ]
  },
  {
   "cell_type": "code",
   "execution_count": 10,
   "id": "829d0cb5",
   "metadata": {},
   "outputs": [
    {
     "name": "stdout",
     "output_type": "stream",
     "text": [
      "importing Jupyter notebook from utils.ipynb\n"
     ]
    }
   ],
   "source": [
    "import import_ipynb\n",
    "import utils"
   ]
  },
  {
   "cell_type": "code",
   "execution_count": 17,
   "id": "0267bdff",
   "metadata": {},
   "outputs": [],
   "source": [
    "videos = pd.read_csv('videos-MERGED.csv')"
   ]
  },
  {
   "cell_type": "code",
   "execution_count": 8,
   "id": "1484bcfc",
   "metadata": {},
   "outputs": [],
   "source": [
    "utils.create_topic_columns(videos, topics)"
   ]
  },
  {
   "cell_type": "code",
   "execution_count": 9,
   "id": "4e02b8ff",
   "metadata": {},
   "outputs": [],
   "source": [
    "videos.to_csv('videos.csv', index=False, encoding='utf-8')"
   ]
  },
  {
   "cell_type": "code",
   "execution_count": 16,
   "id": "ebf0da1c",
   "metadata": {},
   "outputs": [],
   "source": [
    "import import_ipynb\n",
    "import language_api"
   ]
  },
  {
   "cell_type": "code",
   "execution_count": 2,
   "id": "1247bedd",
   "metadata": {},
   "outputs": [
    {
     "name": "stdout",
     "output_type": "stream",
     "text": [
      "Collecting textblob\n",
      "  Obtaining dependency information for textblob from https://files.pythonhosted.org/packages/02/07/5fd2945356dd839974d3a25de8a142dc37293c21315729a41e775b5f3569/textblob-0.18.0.post0-py3-none-any.whl.metadata\n",
      "  Downloading textblob-0.18.0.post0-py3-none-any.whl.metadata (4.5 kB)\n",
      "Requirement already satisfied: nltk>=3.8 in c:\\users\\bhall\\anaconda3\\lib\\site-packages (from textblob) (3.8.1)\n",
      "Requirement already satisfied: click in c:\\users\\bhall\\anaconda3\\lib\\site-packages (from nltk>=3.8->textblob) (8.0.4)\n",
      "Requirement already satisfied: joblib in c:\\users\\bhall\\anaconda3\\lib\\site-packages (from nltk>=3.8->textblob) (1.2.0)\n",
      "Requirement already satisfied: regex>=2021.8.3 in c:\\users\\bhall\\anaconda3\\lib\\site-packages (from nltk>=3.8->textblob) (2022.7.9)\n",
      "Requirement already satisfied: tqdm in c:\\users\\bhall\\anaconda3\\lib\\site-packages (from nltk>=3.8->textblob) (4.65.0)\n",
      "Requirement already satisfied: colorama in c:\\users\\bhall\\anaconda3\\lib\\site-packages (from click->nltk>=3.8->textblob) (0.4.6)\n",
      "Downloading textblob-0.18.0.post0-py3-none-any.whl (626 kB)\n",
      "   ---------------------------------------- 0.0/626.3 kB ? eta -:--:--\n",
      "    --------------------------------------- 10.2/626.3 kB ? eta -:--:--\n",
      "   - ------------------------------------- 30.7/626.3 kB 660.6 kB/s eta 0:00:01\n",
      "   ---------------- ----------------------- 256.0/626.3 kB 2.3 MB/s eta 0:00:01\n",
      "   ---------------------------------------- 626.3/626.3 kB 4.4 MB/s eta 0:00:00\n",
      "Installing collected packages: textblob\n",
      "Successfully installed textblob-0.18.0.post0\n",
      "Note: you may need to restart the kernel to use updated packages.\n"
     ]
    }
   ],
   "source": [
    "pip install textblob\n"
   ]
  },
  {
   "cell_type": "code",
   "execution_count": 19,
   "id": "0a1c0593",
   "metadata": {},
   "outputs": [
    {
     "ename": "AttributeError",
     "evalue": "module 'language_api' has no attribute 'download_sentiments'",
     "output_type": "error",
     "traceback": [
      "\u001b[1;31m---------------------------------------------------------------------------\u001b[0m",
      "\u001b[1;31mAttributeError\u001b[0m                            Traceback (most recent call last)",
      "Cell \u001b[1;32mIn[19], line 1\u001b[0m\n\u001b[1;32m----> 1\u001b[0m language_api\u001b[38;5;241m.\u001b[39mdownload_sentiments(videos)\n",
      "\u001b[1;31mAttributeError\u001b[0m: module 'language_api' has no attribute 'download_sentiments'"
     ]
    }
   ],
   "source": [
    "language_api.download_sentiments(videos)"
   ]
  },
  {
   "cell_type": "code",
   "execution_count": 10,
   "id": "8a08ed34",
   "metadata": {},
   "outputs": [],
   "source": [
    "import pandas as pd\n",
    "from textblob import TextBlob\n",
    "\n",
    "def analyze_sentiment_and_subjectivity(description):\n",
    "    \"\"\"\n",
    "    Analyze the sentiment and subjectivity of a given description using TextBlob.\n",
    "    \"\"\"\n",
    "    if isinstance(description, str):  # Check if description is a string\n",
    "        blob = TextBlob(description)\n",
    "        sentiment_score = blob.sentiment.polarity\n",
    "        subjectivity_score = blob.sentiment.subjectivity\n",
    "        return sentiment_score, subjectivity_score\n",
    "    else:\n",
    "        return None, None  # Return None if description is not a string\n",
    "\n",
    "def categorize_sentiment(sentiment_score):\n",
    "    \"\"\"\n",
    "    Categorize sentiment score into specific categories.\n",
    "    \"\"\"\n",
    "    if sentiment_score is None:\n",
    "        return \"UNKNOWN\"\n",
    "    elif sentiment_score == 0:\n",
    "        return \"NEUTRAL\"\n",
    "    elif sentiment_score < -0.2:\n",
    "        return \"AGAINST\"\n",
    "    elif -0.2 <= sentiment_score <= 0.2:\n",
    "        return \"MODERATE\"\n",
    "    elif sentiment_score > 0.2:\n",
    "        return \"FAVOR\"\n",
    "\n",
    "def categorize_subjectivity(subjectivity_score):\n",
    "    \"\"\"\n",
    "    Categorize subjectivity score into specific categories.\n",
    "    \"\"\"\n",
    "    if subjectivity_score is None:\n",
    "        return \"UNKNOWN\"\n",
    "    elif subjectivity_score <= 0.5:\n",
    "        return \"OBJECTIVE\"\n",
    "    elif subjectivity_score > 0.5:\n",
    "        return \"SUBJECTIVE\"\n",
    "    \n",
    "def analyze_video_data(input_file, output_file):\n",
    "    \"\"\"\n",
    "    Analyze sentiment and subjectivity of descriptions in the input CSV file\n",
    "    and create a new dataset with title, topic, description, sentiment score, and subjectivity score.\n",
    "    \"\"\"\n",
    "    # Read the CSV file into a pandas DataFrame\n",
    "    df = pd.read_csv(input_file)\n",
    "\n",
    "    # Initialize an empty list to store results\n",
    "    results = []\n",
    "\n",
    "    # Iterate through each row in the DataFrame\n",
    "    for index, row in df.iterrows():\n",
    "        # Check if the video is relevant\n",
    "        if not row['relevant']:\n",
    "            continue  # Skip to the next row if the video is not relevant\n",
    "\n",
    "        # Analyze sentiment and subjectivity of description\n",
    "        sentiment_score, subjectivity_score = analyze_sentiment_and_subjectivity(row['description'])\n",
    "\n",
    "        # Categorize sentiment and subjectivity\n",
    "        sentiment_category = categorize_sentiment(sentiment_score)\n",
    "        subjectivity_category = categorize_subjectivity(subjectivity_score)\n",
    "\n",
    "        # Determine topic based on specified conditions\n",
    "        topics = []\n",
    "        if row['trump']:\n",
    "            topics.append('Trump')\n",
    "        if row['clinton']:\n",
    "            topics.append('Clinton')\n",
    "        if row['obama']:\n",
    "            topics.append('Obama')\n",
    "        if row['democrats']:\n",
    "            topics.append('Democrats')\n",
    "        if row['republicans']:\n",
    "            topics.append('Republicans')\n",
    "        if row['liberals']:\n",
    "            topics.append('Liberals')\n",
    "        if row['conservatives']:\n",
    "            topics.append('Conservatives')\n",
    "\n",
    "        # Combine topics into a single string\n",
    "        topic = ', '.join(topics)\n",
    "\n",
    "        # Append values to results list\n",
    "        results.append({\n",
    "            'title': row['title'],\n",
    "            'topic': topic,\n",
    "            'description': row['description'],\n",
    "            'sentiment score': sentiment_score,\n",
    "            'sentiment category': sentiment_category,\n",
    "            'subjectivity score': subjectivity_score,\n",
    "            'subjectivity category': subjectivity_category,\n",
    "            'channel': row['channel']  # Adding the 'channel' column from the videos.csv\n",
    "        })\n",
    "\n",
    "    # Create a new DataFrame with the results\n",
    "    result_df = pd.DataFrame(results)\n",
    "\n",
    "    # Write the new DataFrame to a CSV file\n",
    "    result_df.to_csv(output_file, index=False)\n",
    "\n",
    "# Call the function to analyze video data and create the result dataset\n",
    "analyze_video_data(\"videos.csv\", \"result.csv\")\n"
   ]
  },
  {
   "cell_type": "code",
   "execution_count": null,
   "id": "dd0f581e",
   "metadata": {},
   "outputs": [],
   "source": []
  }
 ],
 "metadata": {
  "kernelspec": {
   "display_name": "Python 3 (ipykernel)",
   "language": "python",
   "name": "python3"
  },
  "language_info": {
   "codemirror_mode": {
    "name": "ipython",
    "version": 3
   },
   "file_extension": ".py",
   "mimetype": "text/x-python",
   "name": "python",
   "nbconvert_exporter": "python",
   "pygments_lexer": "ipython3",
   "version": "3.11.5"
  }
 },
 "nbformat": 4,
 "nbformat_minor": 5
}
