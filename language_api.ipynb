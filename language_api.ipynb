{
 "cells": [
  {
   "cell_type": "code",
   "execution_count": 5,
   "id": "ff0a2aab",
   "metadata": {},
   "outputs": [],
   "source": [
    "import os\n",
    "import time\n",
    "import json\n",
    "import unicodecsv as csv\n",
    "from apiclient.discovery import build\n",
    "from apiclient.errors import HttpError"
   ]
  },
  {
   "cell_type": "code",
   "execution_count": 6,
   "id": "10f7c741",
   "metadata": {},
   "outputs": [],
   "source": [
    "API_KEY = open('google-api-key.txt', 'r').read()\n",
    "language_service = build('language', 'v1', developerKey=API_KEY)"
   ]
  },
  {
   "cell_type": "code",
   "execution_count": 7,
   "id": "9fcfaa55",
   "metadata": {},
   "outputs": [],
   "source": [
    "def analyze_sentiment(text):\n",
    "    \"\"\"\n",
    "    Sends a request to the Google Natural Language API to analyze\n",
    "    the sentiment of the given piece of text.\n",
    "    \"\"\"\n",
    "    request = language_service.documents().analyzeSentiment(\n",
    "      body={\n",
    "        'document': {\n",
    "          'type': 'PLAIN_TEXT',\n",
    "          'content': text,\n",
    "        }\n",
    "      })\n",
    "    return request.execute()"
   ]
  },
  {
   "cell_type": "code",
   "execution_count": 8,
   "id": "1d2232eb",
   "metadata": {},
   "outputs": [],
   "source": [
    "def download_sentiments(videos, output_file='sentiments.csv'):\n",
    "    \"\"\"\n",
    "    Downloads sentiment scores from the Google Natural Language API\n",
    "    for the given videos, then stores the results in a CSV file.\n",
    "    \"\"\"\n",
    "\n",
    "    # Time to wait when we get rate-limited\n",
    "    wait_time = 120\n",
    "    \n",
    "    # Create new (or open existing) CSV file to hold the sentiment analysis values\n",
    "    if os.path.isfile(output_file):\n",
    "        # Open existing file in \"append\" mode\n",
    "        f = open(output_file, 'a')\n",
    "        writer = csv.writer(f, encoding='utf-8')\n",
    "    else:\n",
    "        # Open new file in \"write\" mode and add the headers\n",
    "        f = open(output_file, 'w')\n",
    "        writer = csv.writer(f, encoding='utf-8')\n",
    "        writer.writerow(['youtube_id', 'sentiment', 'sentiment_score', 'sentiment_magnitude'])\n",
    "\n",
    "    i = 0\n",
    "    n_videos = videos.shape[0]\n",
    "    print ('Start processing %s videos...' % n_videos)\n",
    "    while i < n_videos:\n",
    "        video = videos.iloc[i]\n",
    "        try:\n",
    "            # Send request to the Google Natural Language API for the current video\n",
    "            sentiment = analyze_sentiment(video['title'])\n",
    "            # Add result to the CSV file\n",
    "            writer.writerow([\n",
    "                video['youtube_id'],\n",
    "                json.dumps(sentiment),\n",
    "                sentiment['documentSentiment']['score'],\n",
    "                sentiment['documentSentiment']['magnitude'],\n",
    "            ])   \n",
    "            # Move on to the next video\n",
    "            i += 1\n",
    "        except HttpError(e):\n",
    "            if e.resp.status == 429:\n",
    "                print ('Processed %s/%s videos so far...' % (i, n_videos))\n",
    "                # We got rate-limited, so wait a bit before trying again with the same video\n",
    "                time.sleep(wait_time)\n",
    "            elif e.resp.status == 400:\n",
    "                # Bad request. Probably something wrong with the video's text\n",
    "                error_content = json.loads(e.content)['error']\n",
    "                print ('Error [%s] for video %s: %s' % (\n",
    "                    error_content['code'], video['youtube_id'], error_content['message']))\n",
    "                # Move on to the next video\n",
    "                i += 1\n",
    "            else:\n",
    "                print (\"Unhandled error for video %s: %s\" % (\n",
    "                    video['youtube_id'], video['title']))\n",
    "                raise\n",
    "    f.close()\n",
    "    print ('Finished processing %s videos.' % n_videos)"
   ]
  },
  {
   "cell_type": "code",
   "execution_count": null,
   "id": "8e6d72fa",
   "metadata": {},
   "outputs": [],
   "source": []
  }
 ],
 "metadata": {
  "kernelspec": {
   "display_name": "Python 3 (ipykernel)",
   "language": "python",
   "name": "python3"
  },
  "language_info": {
   "codemirror_mode": {
    "name": "ipython",
    "version": 3
   },
   "file_extension": ".py",
   "mimetype": "text/x-python",
   "name": "python",
   "nbconvert_exporter": "python",
   "pygments_lexer": "ipython3",
   "version": "3.11.5"
  }
 },
 "nbformat": 4,
 "nbformat_minor": 5
}
