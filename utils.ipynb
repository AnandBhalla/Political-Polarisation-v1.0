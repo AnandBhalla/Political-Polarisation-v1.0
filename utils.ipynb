{
 "cells": [
  {
   "cell_type": "code",
   "execution_count": 1,
   "id": "695fa848",
   "metadata": {},
   "outputs": [],
   "source": [
    "import re\n",
    "import pandas as pd\n",
    "from IPython.display import HTML\n",
    "\n"
   ]
  },
  {
   "cell_type": "code",
   "execution_count": 2,
   "id": "4c64289c",
   "metadata": {},
   "outputs": [],
   "source": [
    "import numpy as np"
   ]
  },
  {
   "cell_type": "code",
   "execution_count": 3,
   "id": "01330208",
   "metadata": {},
   "outputs": [],
   "source": [
    "\n",
    "\n",
    "def show_videos(videos, ids, columns=None):\n",
    "    \"\"\"\n",
    "    Shows some basic information about the videos with\n",
    "    the given youtube IDs. Contrary to the default\n",
    "    pandas HTML representation, the information is never\n",
    "    truncated (no max_colwidth limits).\n",
    "    \"\"\"\n",
    "    if columns is None:\n",
    "        columns = ['title', 'sentiment_score', 'channel', 'published_at', 'youtube_id']\n",
    "    with pd.option_context('display.max_colwidth', -1):\n",
    "        return HTML(\n",
    "            videos[videos.youtube_id.isin(ids)][columns].to_html(index=False)\n",
    "        )"
   ]
  },
  {
   "cell_type": "code",
   "execution_count": 4,
   "id": "2ce4c3dd",
   "metadata": {},
   "outputs": [],
   "source": [
    "def get_variants(topic):\n",
    "    \"\"\"\n",
    "    Returns all variants for the given topic.\n",
    "    \"\"\"\n",
    "    return [topic['variant%s'%i] for i in range(1,3) if not pd.isnull(topic['variant%s'%i])]\n"
   ]
  },
  {
   "cell_type": "code",
   "execution_count": 5,
   "id": "f4571acd",
   "metadata": {},
   "outputs": [],
   "source": [
    "def get_pattern(topic):\n",
    "    \"\"\"\n",
    "    Compiles and returns the regular expression pattern\n",
    "    matching all variants of the given topic.\n",
    "    \"\"\"\n",
    "    variants = get_variants(topic)\n",
    "    sub_patterns = [r'(.*\\b)%s\\b(.*)' % variant.lower() for variant in variants]\n",
    "    return re.compile(r'|'.join(sub_patterns), flags=re.IGNORECASE)\n"
   ]
  },
  {
   "cell_type": "code",
   "execution_count": 6,
   "id": "45e55d17",
   "metadata": {},
   "outputs": [],
   "source": [
    "def is_relevant(video, topic_pattern):\n",
    "    \"\"\"\n",
    "    Returns True if the given topic is relevant to the given video.\n",
    "    \"\"\"\n",
    "    return bool(topic_pattern.match(video['title']))\n"
   ]
  },
  {
   "cell_type": "code",
   "execution_count": 7,
   "id": "ee11b88f",
   "metadata": {},
   "outputs": [],
   "source": [
    "def create_topic_columns(videos, topics):\n",
    "    \"\"\"\n",
    "    Creates a separate column in the given `videos` dataframe\n",
    "    for each given topic. Those columns will contain `True` values\n",
    "    for videos that mention the corresponding topic.\n",
    "    Finally creates a `relevant` column that will contain `True`\n",
    "    for videos that mentions any topic at all.\n",
    "    \"\"\"\n",
    "    \n",
    "    # Clear values\n",
    "    videos['relevant'] = False\n",
    "\n",
    "    # Create masks for each topic so we can later filter videos by topics\n",
    "    topic_masks = []\n",
    "    for _, topic in topics.iterrows():\n",
    "        videos[topic['slug']] = False  # Clear values\n",
    "        pattern = get_pattern(topic)\n",
    "        topic_mask = videos.apply(lambda video: is_relevant(video, pattern), axis=1)\n",
    "        topic_masks.append(topic_mask)\n",
    "        videos[topic['slug']] = topic_mask\n",
    "\n",
    "    # Mark video as 'relevant' if it mentions any of the topics\n",
    "    videos['relevant'] = np.any(np.column_stack(topic_masks), axis=1)"
   ]
  }
 ],
 "metadata": {
  "kernelspec": {
   "display_name": "Python 3 (ipykernel)",
   "language": "python",
   "name": "python3"
  },
  "language_info": {
   "codemirror_mode": {
    "name": "ipython",
    "version": 3
   },
   "file_extension": ".py",
   "mimetype": "text/x-python",
   "name": "python",
   "nbconvert_exporter": "python",
   "pygments_lexer": "ipython3",
   "version": "3.11.5"
  }
 },
 "nbformat": 4,
 "nbformat_minor": 5
}
